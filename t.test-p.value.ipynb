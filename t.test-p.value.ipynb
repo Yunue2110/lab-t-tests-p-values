{
 "cells": [
  {
   "cell_type": "code",
   "execution_count": 3,
   "id": "55e2d3fc-84c0-462e-9e10-4e2db9212bb4",
   "metadata": {},
   "outputs": [],
   "source": [
    "import pandas as pd\n",
    "import numpy as np\n",
    "import scipy.stats as st"
   ]
  },
  {
   "cell_type": "raw",
   "id": "1b7f9309-30cd-4c27-9fed-18f31952a890",
   "metadata": {},
   "source": [
    "1.We will have another simple example on two sample t test (pooled- when the variances are equal). But this time this is a one sided t-test\n",
    "In a packing plant, a machine packs cartons with jars. It is supposed that a new machine will pack faster on the average than the machine currently used. To test that hypothesis, the times it takes each machine to pack ten cartons are recorded. The results, in seconds, are shown in the tables in the file files_for_lab/machine.txt. Assume that there is sufficient evidence to conduct the t test, does the data provide sufficient evidence to show if one machine is better than the other"
   ]
  },
  {
   "cell_type": "code",
   "execution_count": 2,
   "id": "485a876f-661e-4f42-9f11-1cf227963201",
   "metadata": {},
   "outputs": [
    {
     "data": {
      "text/html": [
       "<div>\n",
       "<style scoped>\n",
       "    .dataframe tbody tr th:only-of-type {\n",
       "        vertical-align: middle;\n",
       "    }\n",
       "\n",
       "    .dataframe tbody tr th {\n",
       "        vertical-align: top;\n",
       "    }\n",
       "\n",
       "    .dataframe thead th {\n",
       "        text-align: right;\n",
       "    }\n",
       "</style>\n",
       "<table border=\"1\" class=\"dataframe\">\n",
       "  <thead>\n",
       "    <tr style=\"text-align: right;\">\n",
       "      <th></th>\n",
       "      <th>New machine</th>\n",
       "      <th>Old machine</th>\n",
       "    </tr>\n",
       "  </thead>\n",
       "  <tbody>\n",
       "    <tr>\n",
       "      <th>0</th>\n",
       "      <td>42.1</td>\n",
       "      <td>42.7</td>\n",
       "    </tr>\n",
       "    <tr>\n",
       "      <th>1</th>\n",
       "      <td>41.0</td>\n",
       "      <td>43.6</td>\n",
       "    </tr>\n",
       "    <tr>\n",
       "      <th>2</th>\n",
       "      <td>41.3</td>\n",
       "      <td>43.8</td>\n",
       "    </tr>\n",
       "    <tr>\n",
       "      <th>3</th>\n",
       "      <td>41.8</td>\n",
       "      <td>43.3</td>\n",
       "    </tr>\n",
       "    <tr>\n",
       "      <th>4</th>\n",
       "      <td>42.4</td>\n",
       "      <td>42.5</td>\n",
       "    </tr>\n",
       "    <tr>\n",
       "      <th>5</th>\n",
       "      <td>42.8</td>\n",
       "      <td>43.5</td>\n",
       "    </tr>\n",
       "    <tr>\n",
       "      <th>6</th>\n",
       "      <td>43.2</td>\n",
       "      <td>43.1</td>\n",
       "    </tr>\n",
       "    <tr>\n",
       "      <th>7</th>\n",
       "      <td>42.3</td>\n",
       "      <td>41.7</td>\n",
       "    </tr>\n",
       "    <tr>\n",
       "      <th>8</th>\n",
       "      <td>41.8</td>\n",
       "      <td>44.0</td>\n",
       "    </tr>\n",
       "    <tr>\n",
       "      <th>9</th>\n",
       "      <td>42.7</td>\n",
       "      <td>44.1</td>\n",
       "    </tr>\n",
       "  </tbody>\n",
       "</table>\n",
       "</div>"
      ],
      "text/plain": [
       "   New machine      Old machine\n",
       "0         42.1             42.7\n",
       "1         41.0             43.6\n",
       "2         41.3             43.8\n",
       "3         41.8             43.3\n",
       "4         42.4             42.5\n",
       "5         42.8             43.5\n",
       "6         43.2             43.1\n",
       "7         42.3             41.7\n",
       "8         41.8             44.0\n",
       "9         42.7             44.1"
      ]
     },
     "execution_count": 2,
     "metadata": {},
     "output_type": "execute_result"
    }
   ],
   "source": [
    "data = pd.read_csv(\"machine.TXT\", sep = \"\\t\")\n",
    "data"
   ]
  },
  {
   "cell_type": "code",
   "execution_count": 4,
   "id": "26ec32f2-1a50-41f2-a4db-2c8a0d643c85",
   "metadata": {},
   "outputs": [],
   "source": [
    "new_machine = [ 42.1 , 41.0 , 41.3 , 41.8 , 42.4 , 42.8 , 43.2 ,  42.3 , 41.8 , 42.7]\n",
    "old_machine =[ 42.7 , 43.6 , 43.8 , 43.3 ,  42.5 , 43.5 , 43.1 , 41.7 , 44.0 , 44.1]"
   ]
  },
  {
   "cell_type": "raw",
   "id": "752edac8-b46d-4973-85b0-df1b406dbadc",
   "metadata": {},
   "source": [
    "The null hypotesis(H0) assumes that there is no difference in the averange packing times between the two machines , while the alternative hypothesis (H1) \n",
    "assumes that the new machine packs faster on average."
   ]
  },
  {
   "cell_type": "markdown",
   "id": "d0946a17-597e-4c8d-8b86-f18a90b71378",
   "metadata": {},
   "source": [
    "$H_0: \\mu new machine = \\mu_0$ old machine"
   ]
  },
  {
   "cell_type": "markdown",
   "id": "c940d481-49aa-40dd-af73-2a4984e0880e",
   "metadata": {},
   "source": [
    "$H_1: \\mu New machine <= \\mu_0$old machine\n",
    "\n"
   ]
  },
  {
   "cell_type": "raw",
   "id": "bf5f88a1-0e72-4ca1-bd29-099a0c61d73c",
   "metadata": {},
   "source": [
    "confidence level of 95%\n",
    "Alpha = 0.05"
   ]
  },
  {
   "cell_type": "code",
   "execution_count": 7,
   "id": "3864111c-2e81-4a6e-87c7-0472221e9c0c",
   "metadata": {},
   "outputs": [
    {
     "data": {
      "text/plain": [
       "Ttest_indResult(statistic=-3.3972307061176026, pvalue=0.0016055712503872579)"
      ]
     },
     "execution_count": 7,
     "metadata": {},
     "output_type": "execute_result"
    }
   ],
   "source": [
    "st.ttest_ind(a=new_machine , b= old_machine , alternative= 'less')"
   ]
  },
  {
   "cell_type": "code",
   "execution_count": null,
   "id": "58cbbc4c-b0f7-48d2-b442-5808325a9d3f",
   "metadata": {},
   "outputs": [],
   "source": [
    "la nueva maquina si es mas rapida que la antigua."
   ]
  },
  {
   "cell_type": "code",
   "execution_count": null,
   "id": "5ba632da-2238-4b16-9ac1-d78b17c24ebc",
   "metadata": {},
   "outputs": [],
   "source": []
  }
 ],
 "metadata": {
  "kernelspec": {
   "display_name": "Python 3 (ipykernel)",
   "language": "python",
   "name": "python3"
  },
  "language_info": {
   "codemirror_mode": {
    "name": "ipython",
    "version": 3
   },
   "file_extension": ".py",
   "mimetype": "text/x-python",
   "name": "python",
   "nbconvert_exporter": "python",
   "pygments_lexer": "ipython3",
   "version": "3.9.13"
  }
 },
 "nbformat": 4,
 "nbformat_minor": 5
}
